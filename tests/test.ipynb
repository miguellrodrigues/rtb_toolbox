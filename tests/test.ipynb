{
 "cells": [
  {
   "cell_type": "code",
   "execution_count": 1,
   "metadata": {},
   "outputs": [
    {
     "ename": "UnboundLocalError",
     "evalue": "local variable 'i' referenced before assignment",
     "output_type": "error",
     "traceback": [
      "\u001b[0;31m---------------------------------------------------------------------------\u001b[0m",
      "\u001b[0;31mUnboundLocalError\u001b[0m                         Traceback (most recent call last)",
      "Cell \u001b[0;32mIn[1], line 1\u001b[0m\n\u001b[0;32m----> 1\u001b[0m \u001b[39mfrom\u001b[39;00m \u001b[39mrtb_toolbox\u001b[39;00m\u001b[39m.\u001b[39;00m\u001b[39mrobots\u001b[39;00m\u001b[39m.\u001b[39;00m\u001b[39mcomau\u001b[39;00m \u001b[39mimport\u001b[39;00m comau_fk\n\u001b[1;32m      2\u001b[0m \u001b[39mfrom\u001b[39;00m \u001b[39mrtb_toolbox\u001b[39;00m\u001b[39m.\u001b[39;00m\u001b[39minverse_kinematics\u001b[39;00m \u001b[39mimport\u001b[39;00m evolutive_ik, full_ik\n\u001b[1;32m      4\u001b[0m \u001b[39mimport\u001b[39;00m \u001b[39mnumpy\u001b[39;00m \u001b[39mas\u001b[39;00m \u001b[39mnp\u001b[39;00m\n",
      "File \u001b[0;32m~/.local/lib/python3.10/site-packages/rtb_toolbox/robots/comau.py:33\u001b[0m\n\u001b[1;32m     30\u001b[0m j4 \u001b[39m=\u001b[39m Link([q5,  \u001b[39m0\u001b[39m,       \u001b[39m0\u001b[39m,      pi \u001b[39m/\u001b[39m \u001b[39m2\u001b[39m],              limits\u001b[39m=\u001b[39mjoint_limits[\u001b[39m4\u001b[39m])\n\u001b[1;32m     31\u001b[0m j5 \u001b[39m=\u001b[39m Link([q6,\u001b[39m-\u001b[39m\u001b[39m95\u001b[39m,       \u001b[39m0\u001b[39m,           \u001b[39m0\u001b[39m], v\u001b[39m=\u001b[39mv2,        limits\u001b[39m=\u001b[39mjoint_limits[\u001b[39m5\u001b[39m])\n\u001b[0;32m---> 33\u001b[0m comau_fk \u001b[39m=\u001b[39m ForwardKinematic(\n\u001b[1;32m     34\u001b[0m     [j0, j1, j2, j3, j4, j5],\n\u001b[1;32m     35\u001b[0m )\n",
      "File \u001b[0;32m~/.local/lib/python3.10/site-packages/rtb_toolbox/forward_kinematics/__init__.py:20\u001b[0m, in \u001b[0;36mForwardKinematic.__init__\u001b[0;34m(self, links)\u001b[0m\n\u001b[1;32m     16\u001b[0m \u001b[39mself\u001b[39m\u001b[39m.\u001b[39mgeneralized_coordinates \u001b[39m=\u001b[39m [\u001b[39mself\u001b[39m\u001b[39m.\u001b[39mlinks[i]\u001b[39m.\u001b[39mgeneralized_coordinate \u001b[39mfor\u001b[39;00m i \u001b[39min\u001b[39;00m \u001b[39mrange\u001b[39m(\u001b[39mself\u001b[39m\u001b[39m.\u001b[39mlen_links)]\n\u001b[1;32m     17\u001b[0m \u001b[39mself\u001b[39m\u001b[39m.\u001b[39mlinks_zero_i \u001b[39m=\u001b[39m np\u001b[39m.\u001b[39mempty(\u001b[39mself\u001b[39m\u001b[39m.\u001b[39mlen_links, dtype\u001b[39m=\u001b[39mLink)\n\u001b[1;32m     19\u001b[0m I \u001b[39m=\u001b[39m sp\u001b[39m.\u001b[39mMatrix([\n\u001b[0;32m---> 20\u001b[0m     [sp\u001b[39m.\u001b[39mSymbol(\u001b[39mf\u001b[39m\u001b[39m'\u001b[39m\u001b[39mI_\u001b[39m\u001b[39m{\u001b[39;00mi\u001b[39m}\u001b[39;00m\u001b[39m(xx)\u001b[39m\u001b[39m'\u001b[39m), sp\u001b[39m.\u001b[39mSymbol(\u001b[39mf\u001b[39m\u001b[39m'\u001b[39m\u001b[39mI_\u001b[39m\u001b[39m{\u001b[39;00mi\u001b[39m}\u001b[39;00m\u001b[39m(xy)\u001b[39m\u001b[39m'\u001b[39m), sp\u001b[39m.\u001b[39mSymbol(\u001b[39mf\u001b[39m\u001b[39m'\u001b[39m\u001b[39mI_\u001b[39m\u001b[39m{\u001b[39;00mi\u001b[39m}\u001b[39;00m\u001b[39m(xz)\u001b[39m\u001b[39m'\u001b[39m)],\n\u001b[1;32m     21\u001b[0m     [sp\u001b[39m.\u001b[39mSymbol(\u001b[39mf\u001b[39m\u001b[39m'\u001b[39m\u001b[39mI_\u001b[39m\u001b[39m{\u001b[39;00mi\u001b[39m}\u001b[39;00m\u001b[39m(xy)\u001b[39m\u001b[39m'\u001b[39m), sp\u001b[39m.\u001b[39mSymbol(\u001b[39mf\u001b[39m\u001b[39m'\u001b[39m\u001b[39mI_\u001b[39m\u001b[39m{\u001b[39;00mi\u001b[39m}\u001b[39;00m\u001b[39m(yy)\u001b[39m\u001b[39m'\u001b[39m), sp\u001b[39m.\u001b[39mSymbol(\u001b[39mf\u001b[39m\u001b[39m'\u001b[39m\u001b[39mI_\u001b[39m\u001b[39m{\u001b[39;00mi\u001b[39m}\u001b[39;00m\u001b[39m(yz)\u001b[39m\u001b[39m'\u001b[39m)],\n\u001b[1;32m     22\u001b[0m     [sp\u001b[39m.\u001b[39mSymbol(\u001b[39mf\u001b[39m\u001b[39m'\u001b[39m\u001b[39mI_\u001b[39m\u001b[39m{\u001b[39;00mi\u001b[39m}\u001b[39;00m\u001b[39m(xz)\u001b[39m\u001b[39m'\u001b[39m), sp\u001b[39m.\u001b[39mSymbol(\u001b[39mf\u001b[39m\u001b[39m'\u001b[39m\u001b[39mI_\u001b[39m\u001b[39m{\u001b[39;00mi\u001b[39m}\u001b[39;00m\u001b[39m(yz)\u001b[39m\u001b[39m'\u001b[39m), sp\u001b[39m.\u001b[39mSymbol(\u001b[39mf\u001b[39m\u001b[39m'\u001b[39m\u001b[39mI_\u001b[39m\u001b[39m{\u001b[39;00mi\u001b[39m}\u001b[39;00m\u001b[39m(zz)\u001b[39m\u001b[39m'\u001b[39m)],\n\u001b[1;32m     23\u001b[0m ])  \u001b[39m# I = R @ I @ R.T\u001b[39;00m\n\u001b[1;32m     25\u001b[0m \u001b[39mfor\u001b[39;00m i \u001b[39min\u001b[39;00m \u001b[39mrange\u001b[39m(\u001b[39m1\u001b[39m, \u001b[39mself\u001b[39m\u001b[39m.\u001b[39mlen_links \u001b[39m+\u001b[39m \u001b[39m1\u001b[39m):\n\u001b[1;32m     26\u001b[0m     m \u001b[39m=\u001b[39m sp\u001b[39m.\u001b[39mSymbol(\u001b[39mf\u001b[39m\u001b[39m'\u001b[39m\u001b[39mm_\u001b[39m\u001b[39m{\u001b[39;00mi\u001b[39m}\u001b[39;00m\u001b[39m'\u001b[39m)\n",
      "\u001b[0;31mUnboundLocalError\u001b[0m: local variable 'i' referenced before assignment"
     ]
    }
   ],
   "source": [
    "from rtb_toolbox.robots.comau import comau_fk\n",
    "from rtb_toolbox.inverse_kinematics import evolutive_ik, full_ik\n",
    "\n",
    "import numpy as np\n",
    "from math import pi\n",
    "\n",
    "theta, f = evolutive_ik(\n",
    "    np.array([537.134, 537.134, 295.794, 0, pi, -pi/4]),\n",
    "    comau_fk,\n",
    "    max_iterations=1000\n",
    ")\n",
    "\n",
    "theta, f"
   ]
  },
  {
   "cell_type": "code",
   "execution_count": null,
   "metadata": {},
   "outputs": [
    {
     "data": {
      "text/plain": [
       "array([ -45.    ,   28.9999, -133.0009,   90.    ,  -17.9993,  180.    ])"
      ]
     },
     "execution_count": 29,
     "metadata": {},
     "output_type": "execute_result"
    }
   ],
   "source": [
    "np.set_printoptions(precision=4,suppress=True)\n",
    "np.rad2deg(theta)"
   ]
  },
  {
   "cell_type": "code",
   "execution_count": null,
   "metadata": {},
   "outputs": [
    {
     "data": {
      "text/plain": [
       "array([[ -0.7071,  -0.7071,  -0.    , 537.134 ],\n",
       "       [ -0.7071,   0.7071,   0.    , 537.134 ],\n",
       "       [ -0.    ,   0.    ,  -1.    , 295.794 ],\n",
       "       [  0.    ,   0.    ,   0.    ,   1.    ]])"
      ]
     },
     "execution_count": 30,
     "metadata": {},
     "output_type": "execute_result"
    }
   ],
   "source": [
    "np.set_printoptions(suppress=True, precision=4)\n",
    "comau_fk.compute_ee_transformation_matrix(theta)"
   ]
  }
 ],
 "metadata": {
  "kernelspec": {
   "display_name": "Python 3",
   "language": "python",
   "name": "python3"
  },
  "language_info": {
   "codemirror_mode": {
    "name": "ipython",
    "version": 3
   },
   "file_extension": ".py",
   "mimetype": "text/x-python",
   "name": "python",
   "nbconvert_exporter": "python",
   "pygments_lexer": "ipython3",
   "version": "3.10.6"
  },
  "orig_nbformat": 4
 },
 "nbformat": 4,
 "nbformat_minor": 2
}
