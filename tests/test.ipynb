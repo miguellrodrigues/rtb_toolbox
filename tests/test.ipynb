{
 "cells": [
  {
   "cell_type": "code",
   "execution_count": 11,
   "metadata": {},
   "outputs": [
    {
     "data": {
      "text/plain": [
       "(array([-0.785398,  0.506144, -2.321302,  0.      ,  0.314146,  6.283185]),\n",
       " 3.675305358494694e-08)"
      ]
     },
     "execution_count": 11,
     "metadata": {},
     "output_type": "execute_result"
    }
   ],
   "source": [
    "from rtb_toolbox.robots.comau import comau_fk\n",
    "from rtb_toolbox.inverse_kinematics import evolutive_ik, full_ik\n",
    "\n",
    "import numpy as np\n",
    "from math import pi\n",
    "\n",
    "theta, f = evolutive_ik(\n",
    "    np.array([537.134122, 537.134122, 295.794, 0, pi, -pi/4]),\n",
    "    comau_fk,\n",
    "    max_iterations=1024\n",
    ")\n",
    "\n",
    "theta, f"
   ]
  },
  {
   "cell_type": "code",
   "execution_count": 12,
   "metadata": {},
   "outputs": [
    {
     "data": {
      "text/plain": [
       "array([ -45.      ,   28.999904, -133.000836,    0.000001,   17.99926 ,\n",
       "        360.000001])"
      ]
     },
     "execution_count": 12,
     "metadata": {},
     "output_type": "execute_result"
    }
   ],
   "source": [
    "np.rad2deg(theta)"
   ]
  },
  {
   "cell_type": "code",
   "execution_count": 13,
   "metadata": {},
   "outputs": [
    {
     "data": {
      "text/plain": [
       "array([[ -0.707107,  -0.707107,   0.      , 537.134122],\n",
       "       [ -0.707107,   0.707107,  -0.      , 537.134122],\n",
       "       [ -0.      ,  -0.      ,  -1.      , 295.794   ],\n",
       "       [  0.      ,   0.      ,   0.      ,   1.      ]])"
      ]
     },
     "execution_count": 13,
     "metadata": {},
     "output_type": "execute_result"
    }
   ],
   "source": [
    "np.set_printoptions(suppress=True, precision=6)\n",
    "comau_fk.compute_ee_transformation_matrix(\n",
    "    theta\n",
    ")"
   ]
  }
 ],
 "metadata": {
  "kernelspec": {
   "display_name": "Python 3",
   "language": "python",
   "name": "python3"
  },
  "language_info": {
   "codemirror_mode": {
    "name": "ipython",
    "version": 3
   },
   "file_extension": ".py",
   "mimetype": "text/x-python",
   "name": "python",
   "nbconvert_exporter": "python",
   "pygments_lexer": "ipython3",
   "version": "3.10.6"
  },
  "orig_nbformat": 4
 },
 "nbformat": 4,
 "nbformat_minor": 2
}
