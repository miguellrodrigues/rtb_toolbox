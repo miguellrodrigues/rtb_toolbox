{
 "cells": [
  {
   "cell_type": "code",
   "execution_count": 1,
   "metadata": {},
   "outputs": [
    {
     "data": {
      "text/plain": [
       "(array([-0.78539816,  0.50614381, -2.32130249,  3.14159262, -0.31414637,\n",
       "         3.1415926 ]),\n",
       " 3.545383195141587e-08)"
      ]
     },
     "execution_count": 1,
     "metadata": {},
     "output_type": "execute_result"
    }
   ],
   "source": [
    "from rtb_toolbox.robots.comau import comau_fk\n",
    "from rtb_toolbox.inverse_kinematics import evolutive_ik, full_ik\n",
    "\n",
    "import numpy as np\n",
    "from math import pi\n",
    "\n",
    "theta, f = evolutive_ik(\n",
    "    np.array([537.134122, 537.134122, 295.794, 0, pi, -pi/4]),\n",
    "    comau_fk,\n",
    "    max_iterations=1024\n",
    ")\n",
    "\n",
    "theta, f"
   ]
  },
  {
   "cell_type": "code",
   "execution_count": 2,
   "metadata": {},
   "outputs": [
    {
     "data": {
      "text/plain": [
       "array([ -45.00000007,   28.99990386, -133.00083562,  179.99999818,\n",
       "        -17.99926087,  179.99999672])"
      ]
     },
     "execution_count": 2,
     "metadata": {},
     "output_type": "execute_result"
    }
   ],
   "source": [
    "np.rad2deg(theta)"
   ]
  },
  {
   "cell_type": "code",
   "execution_count": 3,
   "metadata": {},
   "outputs": [
    {
     "data": {
      "text/plain": [
       "array([[ -0.707107,  -0.707107,  -0.      , 537.134122],\n",
       "       [ -0.707107,   0.707107,   0.      , 537.134122],\n",
       "       [  0.      ,   0.      ,  -1.      , 295.794   ],\n",
       "       [  0.      ,   0.      ,   0.      ,   1.      ]])"
      ]
     },
     "execution_count": 3,
     "metadata": {},
     "output_type": "execute_result"
    }
   ],
   "source": [
    "np.set_printoptions(suppress=True, precision=6)\n",
    "comau_fk.compute_ee_transformation_matrix(\n",
    "    theta\n",
    ")"
   ]
  }
 ],
 "metadata": {
  "kernelspec": {
   "display_name": "Python 3",
   "language": "python",
   "name": "python3"
  },
  "language_info": {
   "codemirror_mode": {
    "name": "ipython",
    "version": 3
   },
   "file_extension": ".py",
   "mimetype": "text/x-python",
   "name": "python",
   "nbconvert_exporter": "python",
   "pygments_lexer": "ipython3",
   "version": "3.10.6"
  },
  "orig_nbformat": 4
 },
 "nbformat": 4,
 "nbformat_minor": 2
}
