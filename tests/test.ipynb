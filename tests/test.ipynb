{
 "cells": [
  {
   "cell_type": "code",
   "execution_count": 4,
   "metadata": {
    "ExecuteTime": {
     "end_time": "2023-11-26T19:27:44.705953231Z",
     "start_time": "2023-11-26T19:27:44.661049068Z"
    }
   },
   "outputs": [
    {
     "ename": "ValueError",
     "evalue": "The truth value of an array with more than one element is ambiguous. Use a.any() or a.all()",
     "output_type": "error",
     "traceback": [
      "\u001B[0;31m---------------------------------------------------------------------------\u001B[0m",
      "\u001B[0;31mValueError\u001B[0m                                Traceback (most recent call last)",
      "Cell \u001B[0;32mIn[4], line 1\u001B[0m\n\u001B[0;32m----> 1\u001B[0m \u001B[38;5;28;01mfrom\u001B[39;00m \u001B[38;5;21;01mrtb_toolbox\u001B[39;00m\u001B[38;5;21;01m.\u001B[39;00m\u001B[38;5;21;01mrobots\u001B[39;00m\u001B[38;5;21;01m.\u001B[39;00m\u001B[38;5;21;01mcomau\u001B[39;00m \u001B[38;5;28;01mimport\u001B[39;00m comau_fk\n\u001B[1;32m      2\u001B[0m \u001B[38;5;28;01mfrom\u001B[39;00m \u001B[38;5;21;01mrtb_toolbox\u001B[39;00m\u001B[38;5;21;01m.\u001B[39;00m\u001B[38;5;21;01minverse_kinematics\u001B[39;00m \u001B[38;5;28;01mimport\u001B[39;00m evolutive_ik, full_ik\n\u001B[1;32m      4\u001B[0m \u001B[38;5;28;01mimport\u001B[39;00m \u001B[38;5;21;01mnumpy\u001B[39;00m \u001B[38;5;28;01mas\u001B[39;00m \u001B[38;5;21;01mnp\u001B[39;00m\n",
      "File \u001B[0;32m~/.local/lib/python3.10/site-packages/rtb_toolbox/robots/comau.py:32\u001B[0m\n\u001B[1;32m     29\u001B[0m j4 \u001B[38;5;241m=\u001B[39m Link([q5, \u001B[38;5;241m0\u001B[39m, \u001B[38;5;241m0\u001B[39m, pi \u001B[38;5;241m/\u001B[39m \u001B[38;5;241m2\u001B[39m], limits\u001B[38;5;241m=\u001B[39mjoint_limits[\u001B[38;5;241m4\u001B[39m])\n\u001B[1;32m     30\u001B[0m j5 \u001B[38;5;241m=\u001B[39m Link([q6, \u001B[38;5;241m-\u001B[39m\u001B[38;5;241m95\u001B[39m, \u001B[38;5;241m0\u001B[39m, \u001B[38;5;241m0\u001B[39m], v\u001B[38;5;241m=\u001B[39mv2, limits\u001B[38;5;241m=\u001B[39mjoint_limits[\u001B[38;5;241m5\u001B[39m])\n\u001B[0;32m---> 32\u001B[0m comau_fk \u001B[38;5;241m=\u001B[39m \u001B[43mForwardKinematic\u001B[49m\u001B[43m(\u001B[49m\n\u001B[1;32m     33\u001B[0m \u001B[43m\t\t\u001B[49m\u001B[43m[\u001B[49m\u001B[43mj0\u001B[49m\u001B[43m,\u001B[49m\u001B[43m \u001B[49m\u001B[43mj1\u001B[49m\u001B[43m,\u001B[49m\u001B[43m \u001B[49m\u001B[43mj2\u001B[49m\u001B[43m,\u001B[49m\u001B[43m \u001B[49m\u001B[43mj3\u001B[49m\u001B[43m,\u001B[49m\u001B[43m \u001B[49m\u001B[43mj4\u001B[49m\u001B[43m,\u001B[49m\u001B[43m \u001B[49m\u001B[43mj5\u001B[49m\u001B[43m]\u001B[49m\u001B[43m,\u001B[49m\n\u001B[1;32m     34\u001B[0m \u001B[43m)\u001B[49m\n",
      "File \u001B[0;32m~/.local/lib/python3.10/site-packages/rtb_toolbox/forward_kinematics/__init__.py:28\u001B[0m, in \u001B[0;36mForwardKinematic.__init__\u001B[0;34m(self, links)\u001B[0m\n\u001B[1;32m     25\u001B[0m I_tensor \u001B[38;5;241m=\u001B[39m link_im\u001B[38;5;241m.\u001B[39minertia_tensor\n\u001B[1;32m     26\u001B[0m R \u001B[38;5;241m=\u001B[39m transformation[:\u001B[38;5;241m3\u001B[39m, :\u001B[38;5;241m3\u001B[39m]\n\u001B[0;32m---> 28\u001B[0m \u001B[38;5;28;01mif\u001B[39;00m I_tensor \u001B[38;5;241m==\u001B[39m \u001B[38;5;241m0\u001B[39m:\n\u001B[1;32m     29\u001B[0m \tI_tensor \u001B[38;5;241m=\u001B[39m sp\u001B[38;5;241m.\u001B[39mMatrix([\n\u001B[1;32m     30\u001B[0m \t\t[sp\u001B[38;5;241m.\u001B[39mSymbol(\u001B[38;5;124mf\u001B[39m\u001B[38;5;124m'\u001B[39m\u001B[38;5;124mI_\u001B[39m\u001B[38;5;132;01m{\u001B[39;00mi\u001B[38;5;132;01m}\u001B[39;00m\u001B[38;5;124m(xx)\u001B[39m\u001B[38;5;124m'\u001B[39m), sp\u001B[38;5;241m.\u001B[39mSymbol(\u001B[38;5;124mf\u001B[39m\u001B[38;5;124m'\u001B[39m\u001B[38;5;124mI_\u001B[39m\u001B[38;5;132;01m{\u001B[39;00mi\u001B[38;5;132;01m}\u001B[39;00m\u001B[38;5;124m(xy)\u001B[39m\u001B[38;5;124m'\u001B[39m), sp\u001B[38;5;241m.\u001B[39mSymbol(\u001B[38;5;124mf\u001B[39m\u001B[38;5;124m'\u001B[39m\u001B[38;5;124mI_\u001B[39m\u001B[38;5;132;01m{\u001B[39;00mi\u001B[38;5;132;01m}\u001B[39;00m\u001B[38;5;124m(xz)\u001B[39m\u001B[38;5;124m'\u001B[39m)],\n\u001B[1;32m     31\u001B[0m \t\t[sp\u001B[38;5;241m.\u001B[39mSymbol(\u001B[38;5;124mf\u001B[39m\u001B[38;5;124m'\u001B[39m\u001B[38;5;124mI_\u001B[39m\u001B[38;5;132;01m{\u001B[39;00mi\u001B[38;5;132;01m}\u001B[39;00m\u001B[38;5;124m(xy)\u001B[39m\u001B[38;5;124m'\u001B[39m), sp\u001B[38;5;241m.\u001B[39mSymbol(\u001B[38;5;124mf\u001B[39m\u001B[38;5;124m'\u001B[39m\u001B[38;5;124mI_\u001B[39m\u001B[38;5;132;01m{\u001B[39;00mi\u001B[38;5;132;01m}\u001B[39;00m\u001B[38;5;124m(yy)\u001B[39m\u001B[38;5;124m'\u001B[39m), sp\u001B[38;5;241m.\u001B[39mSymbol(\u001B[38;5;124mf\u001B[39m\u001B[38;5;124m'\u001B[39m\u001B[38;5;124mI_\u001B[39m\u001B[38;5;132;01m{\u001B[39;00mi\u001B[38;5;132;01m}\u001B[39;00m\u001B[38;5;124m(yz)\u001B[39m\u001B[38;5;124m'\u001B[39m)],\n\u001B[1;32m     32\u001B[0m \t\t[sp\u001B[38;5;241m.\u001B[39mSymbol(\u001B[38;5;124mf\u001B[39m\u001B[38;5;124m'\u001B[39m\u001B[38;5;124mI_\u001B[39m\u001B[38;5;132;01m{\u001B[39;00mi\u001B[38;5;132;01m}\u001B[39;00m\u001B[38;5;124m(xz)\u001B[39m\u001B[38;5;124m'\u001B[39m), sp\u001B[38;5;241m.\u001B[39mSymbol(\u001B[38;5;124mf\u001B[39m\u001B[38;5;124m'\u001B[39m\u001B[38;5;124mI_\u001B[39m\u001B[38;5;132;01m{\u001B[39;00mi\u001B[38;5;132;01m}\u001B[39;00m\u001B[38;5;124m(yz)\u001B[39m\u001B[38;5;124m'\u001B[39m), sp\u001B[38;5;241m.\u001B[39mSymbol(\u001B[38;5;124mf\u001B[39m\u001B[38;5;124m'\u001B[39m\u001B[38;5;124mI_\u001B[39m\u001B[38;5;132;01m{\u001B[39;00mi\u001B[38;5;132;01m}\u001B[39;00m\u001B[38;5;124m(zz)\u001B[39m\u001B[38;5;124m'\u001B[39m)],\n\u001B[1;32m     33\u001B[0m \t])\n\u001B[1;32m     35\u001B[0m I_tensor \u001B[38;5;241m=\u001B[39m R \u001B[38;5;241m@\u001B[39m I_tensor \u001B[38;5;241m@\u001B[39m R\u001B[38;5;241m.\u001B[39mT\n",
      "\u001B[0;31mValueError\u001B[0m: The truth value of an array with more than one element is ambiguous. Use a.any() or a.all()"
     ]
    }
   ],
   "source": [
    "from rtb_toolbox.robots.comau import comau_fk\n",
    "from rtb_toolbox.inverse_kinematics import evolutive_ik, full_ik\n",
    "  \n",
    "import numpy as np\n",
    "from math import pi\n",
    "\n",
    "theta, f = evolutive_ik(\n",
    "    np.array([537.95, -537.95, 295.96, 0, pi, pi/4]),\n",
    "    comau_fk,\n",
    "    max_iterations=1024\n",
    ")\n",
    "\n",
    "theta, f"
   ]
  },
  {
   "cell_type": "code",
   "execution_count": null,
   "metadata": {
    "ExecuteTime": {
     "start_time": "2023-11-26T19:27:44.705797889Z"
    }
   },
   "outputs": [],
   "source": [
    "np.rad2deg(theta)"
   ]
  },
  {
   "cell_type": "code",
   "execution_count": null,
   "metadata": {
    "ExecuteTime": {
     "end_time": "2023-11-26T19:27:44.706722617Z",
     "start_time": "2023-11-26T19:27:44.706342202Z"
    }
   },
   "outputs": [],
   "source": [
    "np.set_printoptions(suppress=True, precision=6)\n",
    "comau_fk.compute_ee_transformation_matrix(\n",
    "    theta\n",
    ")"
   ]
  }
 ],
 "metadata": {
  "kernelspec": {
   "display_name": "Python 3",
   "language": "python",
   "name": "python3"
  },
  "language_info": {
   "codemirror_mode": {
    "name": "ipython",
    "version": 3
   },
   "file_extension": ".py",
   "mimetype": "text/x-python",
   "name": "python",
   "nbconvert_exporter": "python",
   "pygments_lexer": "ipython3",
   "version": "3.10.6"
  },
  "orig_nbformat": 4
 },
 "nbformat": 4,
 "nbformat_minor": 2
}
