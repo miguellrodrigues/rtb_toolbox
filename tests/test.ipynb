{
 "cells": [
  {
   "cell_type": "code",
   "execution_count": 50,
   "metadata": {},
   "outputs": [
    {
     "data": {
      "text/plain": [
       "(array([ 0.785398,  0.645778, -2.18167 , -0.      ,  0.314145, -6.283185]),\n",
       " 2.76819732127866e-08)"
      ]
     },
     "execution_count": 50,
     "metadata": {},
     "output_type": "execute_result"
    }
   ],
   "source": [
    "from rtb_toolbox.robots.comau import comau_fk\n",
    "from rtb_toolbox.inverse_kinematics import evolutive_ik, full_ik\n",
    "\n",
    "import numpy as np\n",
    "from math import pi\n",
    "\n",
    "theta, f = evolutive_ik(\n",
    "    np.array([585.95, -585.95, 250.96, 0, pi, pi/4]),\n",
    "    comau_fk,\n",
    "    max_iterations=1024\n",
    ")\n",
    "\n",
    "theta, f"
   ]
  },
  {
   "cell_type": "code",
   "execution_count": 51,
   "metadata": {},
   "outputs": [
    {
     "data": {
      "text/plain": [
       "array([  45.      ,   37.000368, -125.000472,   -0.000002,   17.999162,\n",
       "       -360.000003])"
      ]
     },
     "execution_count": 51,
     "metadata": {},
     "output_type": "execute_result"
    }
   ],
   "source": [
    "np.rad2deg(theta)"
   ]
  },
  {
   "cell_type": "code",
   "execution_count": 52,
   "metadata": {},
   "outputs": [
    {
     "data": {
      "text/plain": [
       "array([[  -0.707107,    0.707107,   -0.      ,  585.953819],\n",
       "       [   0.707107,    0.707107,    0.      , -585.953819],\n",
       "       [   0.      ,   -0.      ,   -1.      ,  250.96702 ],\n",
       "       [   0.      ,    0.      ,    0.      ,    1.      ]])"
      ]
     },
     "execution_count": 52,
     "metadata": {},
     "output_type": "execute_result"
    }
   ],
   "source": [
    "np.set_printoptions(suppress=True, precision=6)\n",
    "comau_fk.compute_ee_transformation_matrix(\n",
    "    np.deg2rad([45, 37, -125, 0, 18, 0])\n",
    ")"
   ]
  }
 ],
 "metadata": {
  "kernelspec": {
   "display_name": "Python 3",
   "language": "python",
   "name": "python3"
  },
  "language_info": {
   "codemirror_mode": {
    "name": "ipython",
    "version": 3
   },
   "file_extension": ".py",
   "mimetype": "text/x-python",
   "name": "python",
   "nbconvert_exporter": "python",
   "pygments_lexer": "ipython3",
   "version": "3.10.6"
  },
  "orig_nbformat": 4
 },
 "nbformat": 4,
 "nbformat_minor": 2
}
