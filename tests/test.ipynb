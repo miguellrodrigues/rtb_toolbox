{
 "cells": [
  {
   "cell_type": "code",
   "metadata": {
    "ExecuteTime": {
     "end_time": "2025-01-01T00:16:06.346972Z",
     "start_time": "2025-01-01T00:16:05.966373Z"
    }
   },
   "source": [
    "from rtb_toolbox.robots.comau import comau_fk\n",
    "from rtb_toolbox.inverse_kinematics import evolution_ik, full_ik\n",
    "  \n",
    "import numpy as np\n",
    "from math import pi\n",
    "\n",
    "theta, f = full_ik(\n",
    "    np.array([537.95, -537.95, 295.96, 0, pi, pi/4]),\n",
    "    comau_fk,\n",
    "    max_iterations=1024\n",
    ")\n",
    "\n",
    "theta, f"
   ],
   "outputs": [
    {
     "data": {
      "text/plain": [
       "(array([ 0.78524689,  2.82729927,  1.92262224,  3.14005135, -2.23659436,\n",
       "        -3.14021357]),\n",
       " 0.001466713536074683)"
      ]
     },
     "execution_count": 7,
     "metadata": {},
     "output_type": "execute_result"
    }
   ],
   "execution_count": 7
  },
  {
   "cell_type": "code",
   "metadata": {
    "ExecuteTime": {
     "end_time": "2025-01-01T00:16:06.423823Z",
     "start_time": "2025-01-01T00:16:06.420543Z"
    }
   },
   "source": [
    "np.rad2deg(theta)"
   ],
   "outputs": [
    {
     "data": {
      "text/plain": [
       "array([  44.99133276,  161.99231531,  110.15813993,  179.91168993,\n",
       "       -128.14741702, -179.92098429])"
      ]
     },
     "execution_count": 8,
     "metadata": {},
     "output_type": "execute_result"
    }
   ],
   "execution_count": 8
  },
  {
   "cell_type": "code",
   "metadata": {
    "ExecuteTime": {
     "end_time": "2025-01-01T00:16:06.475011Z",
     "start_time": "2025-01-01T00:16:06.469815Z"
    }
   },
   "source": [
    "np.set_printoptions(suppress=True, precision=6)\n",
    "comau_fk.compute_ee_transformation_matrix(\n",
    "    theta\n",
    ")"
   ],
   "outputs": [
    {
     "data": {
      "text/plain": [
       "array([[  -0.706912,    0.707301,    0.001084,  537.949607],\n",
       "       [   0.707302,    0.706912,    0.00063 , -537.949702],\n",
       "       [  -0.00032 ,    0.001212,   -0.999999,  295.960509],\n",
       "       [   0.      ,    0.      ,    0.      ,    1.      ]])"
      ]
     },
     "execution_count": 9,
     "metadata": {},
     "output_type": "execute_result"
    }
   ],
   "execution_count": 9
  }
 ],
 "metadata": {
  "kernelspec": {
   "display_name": "Python 3",
   "language": "python",
   "name": "python3"
  },
  "language_info": {
   "codemirror_mode": {
    "name": "ipython",
    "version": 3
   },
   "file_extension": ".py",
   "mimetype": "text/x-python",
   "name": "python",
   "nbconvert_exporter": "python",
   "pygments_lexer": "ipython3",
   "version": "3.10.6"
  },
  "orig_nbformat": 4
 },
 "nbformat": 4,
 "nbformat_minor": 2
}
